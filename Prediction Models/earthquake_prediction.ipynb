{
 "cells": [
  {
   "cell_type": "markdown",
   "id": "d013bf71-d7eb-466d-8a04-fe95bff45fc7",
   "metadata": {},
   "source": [
    "## Earthquake Prediction Model"
   ]
  },
  {
   "cell_type": "code",
   "execution_count": 299,
   "id": "3d564fa0-be5f-4408-9150-975fd292c348",
   "metadata": {},
   "outputs": [],
   "source": [
    "import numpy as np\n",
    "import pandas as pd\n",
    "import matplotlib.pyplot as plt\n",
    "\n",
    "import datetime as dt\n",
    "import time\n",
    "\n",
    "\n",
    "from sklearn.preprocessing import StandardScaler\n",
    "from sklearn.model_selection import train_test_split"
   ]
  },
  {
   "cell_type": "code",
   "execution_count": 313,
   "id": "88695493-a08e-4b2d-b2b0-f12fccda19e4",
   "metadata": {},
   "outputs": [],
   "source": [
    "#load the dataset\n",
    "\n",
    "df = pd.read_csv(r\"C:\\Everything On This PC\\Udacity\\Git_hseju\\turkey-chapter-predicting-earthquakes\\src\\data/Omdena_Turkey__final_rev1.csv\", index_col=0)"
   ]
  },
  {
   "cell_type": "code",
   "execution_count": 314,
   "id": "eecebbe4-f713-4754-99b8-60c7a3bea41e",
   "metadata": {},
   "outputs": [
    {
     "data": {
      "text/html": [
       "<div>\n",
       "<style scoped>\n",
       "    .dataframe tbody tr th:only-of-type {\n",
       "        vertical-align: middle;\n",
       "    }\n",
       "\n",
       "    .dataframe tbody tr th {\n",
       "        vertical-align: top;\n",
       "    }\n",
       "\n",
       "    .dataframe thead th {\n",
       "        text-align: right;\n",
       "    }\n",
       "</style>\n",
       "<table border=\"1\" class=\"dataframe\">\n",
       "  <thead>\n",
       "    <tr style=\"text-align: right;\">\n",
       "      <th></th>\n",
       "      <th>Latitude</th>\n",
       "      <th>Longitude</th>\n",
       "      <th>Depth(km)</th>\n",
       "      <th>xM</th>\n",
       "      <th>MD</th>\n",
       "      <th>ML</th>\n",
       "      <th>Mw</th>\n",
       "      <th>Ms</th>\n",
       "      <th>Mb</th>\n",
       "      <th>Type</th>\n",
       "      <th>Location</th>\n",
       "      <th>City</th>\n",
       "      <th>AREA_</th>\n",
       "      <th>geometry</th>\n",
       "      <th>Date_Time</th>\n",
       "      <th>Year</th>\n",
       "      <th>Month</th>\n",
       "      <th>Hour</th>\n",
       "    </tr>\n",
       "  </thead>\n",
       "  <tbody>\n",
       "    <tr>\n",
       "      <th>0</th>\n",
       "      <td>37.8</td>\n",
       "      <td>29.1</td>\n",
       "      <td>5.0</td>\n",
       "      <td>5.0</td>\n",
       "      <td>5.0</td>\n",
       "      <td>0.0</td>\n",
       "      <td>NaN</td>\n",
       "      <td>0.0</td>\n",
       "      <td>0.0</td>\n",
       "      <td>1</td>\n",
       "      <td>DENIZLI (DENIZLI) [North East  2.3 km]</td>\n",
       "      <td>DENIZLI</td>\n",
       "      <td>4621.875</td>\n",
       "      <td>POINT (29.1 37.8)</td>\n",
       "      <td>1900-09-20 00:00:01.000</td>\n",
       "      <td>1900</td>\n",
       "      <td>9</td>\n",
       "      <td>0</td>\n",
       "    </tr>\n",
       "    <tr>\n",
       "      <th>1</th>\n",
       "      <td>37.8</td>\n",
       "      <td>29.1</td>\n",
       "      <td>20.0</td>\n",
       "      <td>4.9</td>\n",
       "      <td>4.8</td>\n",
       "      <td>4.8</td>\n",
       "      <td>4.9</td>\n",
       "      <td>4.8</td>\n",
       "      <td>4.9</td>\n",
       "      <td>1</td>\n",
       "      <td>DENIZLI (DENIZLI) [North East  2.3 km]</td>\n",
       "      <td>DENIZLI</td>\n",
       "      <td>4621.875</td>\n",
       "      <td>POINT (29.1 37.8)</td>\n",
       "      <td>1904-01-01 11:38:00.000</td>\n",
       "      <td>1904</td>\n",
       "      <td>1</td>\n",
       "      <td>11</td>\n",
       "    </tr>\n",
       "    <tr>\n",
       "      <th>2</th>\n",
       "      <td>37.8</td>\n",
       "      <td>28.7</td>\n",
       "      <td>30.0</td>\n",
       "      <td>5.5</td>\n",
       "      <td>5.2</td>\n",
       "      <td>5.2</td>\n",
       "      <td>5.5</td>\n",
       "      <td>5.3</td>\n",
       "      <td>5.2</td>\n",
       "      <td>1</td>\n",
       "      <td>HACIHIDIRLAR-KARACASU (AYDIN) [North East  2.9...</td>\n",
       "      <td>AYDIN</td>\n",
       "      <td>2866.059</td>\n",
       "      <td>POINT (28.7 37.8)</td>\n",
       "      <td>1910-08-07 21:45:00.000</td>\n",
       "      <td>1910</td>\n",
       "      <td>8</td>\n",
       "      <td>21</td>\n",
       "    </tr>\n",
       "    <tr>\n",
       "      <th>3</th>\n",
       "      <td>37.5</td>\n",
       "      <td>29.0</td>\n",
       "      <td>15.0</td>\n",
       "      <td>4.5</td>\n",
       "      <td>4.5</td>\n",
       "      <td>0.0</td>\n",
       "      <td>NaN</td>\n",
       "      <td>0.0</td>\n",
       "      <td>0.0</td>\n",
       "      <td>1</td>\n",
       "      <td>MEDET-TAVAS (DENIZLI) [South West  1.7 km]</td>\n",
       "      <td>DENIZLI</td>\n",
       "      <td>4621.875</td>\n",
       "      <td>POINT (29 37.5)</td>\n",
       "      <td>1920-07-02 14:13:01.000</td>\n",
       "      <td>1920</td>\n",
       "      <td>7</td>\n",
       "      <td>14</td>\n",
       "    </tr>\n",
       "    <tr>\n",
       "      <th>4</th>\n",
       "      <td>37.5</td>\n",
       "      <td>29.0</td>\n",
       "      <td>15.0</td>\n",
       "      <td>5.3</td>\n",
       "      <td>5.0</td>\n",
       "      <td>4.9</td>\n",
       "      <td>5.3</td>\n",
       "      <td>5.0</td>\n",
       "      <td>5.0</td>\n",
       "      <td>1</td>\n",
       "      <td>MEDET-TAVAS (DENIZLI) [South West  1.7 km]</td>\n",
       "      <td>DENIZLI</td>\n",
       "      <td>4621.875</td>\n",
       "      <td>POINT (29 37.5)</td>\n",
       "      <td>1920-07-04 12:17:58.000</td>\n",
       "      <td>1920</td>\n",
       "      <td>7</td>\n",
       "      <td>12</td>\n",
       "    </tr>\n",
       "  </tbody>\n",
       "</table>\n",
       "</div>"
      ],
      "text/plain": [
       "   Latitude  Longitude  Depth(km)   xM   MD   ML   Mw   Ms   Mb  Type  \\\n",
       "0      37.8       29.1        5.0  5.0  5.0  0.0  NaN  0.0  0.0     1   \n",
       "1      37.8       29.1       20.0  4.9  4.8  4.8  4.9  4.8  4.9     1   \n",
       "2      37.8       28.7       30.0  5.5  5.2  5.2  5.5  5.3  5.2     1   \n",
       "3      37.5       29.0       15.0  4.5  4.5  0.0  NaN  0.0  0.0     1   \n",
       "4      37.5       29.0       15.0  5.3  5.0  4.9  5.3  5.0  5.0     1   \n",
       "\n",
       "                                            Location     City     AREA_  \\\n",
       "0             DENIZLI (DENIZLI) [North East  2.3 km]  DENIZLI  4621.875   \n",
       "1             DENIZLI (DENIZLI) [North East  2.3 km]  DENIZLI  4621.875   \n",
       "2  HACIHIDIRLAR-KARACASU (AYDIN) [North East  2.9...    AYDIN  2866.059   \n",
       "3         MEDET-TAVAS (DENIZLI) [South West  1.7 km]  DENIZLI  4621.875   \n",
       "4         MEDET-TAVAS (DENIZLI) [South West  1.7 km]  DENIZLI  4621.875   \n",
       "\n",
       "            geometry                Date_Time  Year  Month  Hour  \n",
       "0  POINT (29.1 37.8)  1900-09-20 00:00:01.000  1900      9     0  \n",
       "1  POINT (29.1 37.8)  1904-01-01 11:38:00.000  1904      1    11  \n",
       "2  POINT (28.7 37.8)  1910-08-07 21:45:00.000  1910      8    21  \n",
       "3    POINT (29 37.5)  1920-07-02 14:13:01.000  1920      7    14  \n",
       "4    POINT (29 37.5)  1920-07-04 12:17:58.000  1920      7    12  "
      ]
     },
     "execution_count": 314,
     "metadata": {},
     "output_type": "execute_result"
    }
   ],
   "source": [
    "#check the dataframe\n",
    "df.head()"
   ]
  },
  {
   "cell_type": "markdown",
   "id": "105de1a1-23cb-47ae-a360-7b2543af7a8c",
   "metadata": {},
   "source": [
    "We would be looking at those attributes that can define the prediction of earthquake. Some of these features are Date, Time, Location and Depth. We would separate time and date into different columns to consider them as independednt features."
   ]
  },
  {
   "cell_type": "code",
   "execution_count": 315,
   "id": "7a321d2d-345b-408c-97b8-dd2ccfd9317a",
   "metadata": {},
   "outputs": [
    {
     "data": {
      "text/plain": [
       "Latitude     float64\n",
       "Longitude    float64\n",
       "Depth(km)    float64\n",
       "xM           float64\n",
       "MD           float64\n",
       "ML           float64\n",
       "Mw           float64\n",
       "Ms           float64\n",
       "Mb           float64\n",
       "Type           int64\n",
       "Location      object\n",
       "City          object\n",
       "AREA_        float64\n",
       "geometry      object\n",
       "Date_Time     object\n",
       "Year           int64\n",
       "Month          int64\n",
       "Hour           int64\n",
       "dtype: object"
      ]
     },
     "execution_count": 315,
     "metadata": {},
     "output_type": "execute_result"
    }
   ],
   "source": [
    "#lets check the datatypes of features\n",
    "df.dtypes"
   ]
  },
  {
   "cell_type": "code",
   "execution_count": 316,
   "id": "cc0af011-526c-4e20-96b3-4224c7fae236",
   "metadata": {},
   "outputs": [
    {
     "name": "stdout",
     "output_type": "stream",
     "text": [
      "datetime64[ns]\n"
     ]
    }
   ],
   "source": [
    "#change the datatype of Date_Time from object to datetime\n",
    "df['Date_Time'] = pd.to_datetime(df['Date_Time'])\n",
    "\n",
    "#checking the datatype\n",
    "print(df['Date_Time'].dtype)"
   ]
  },
  {
   "cell_type": "markdown",
   "id": "707837c4-161a-4cad-828f-168df11ccd84",
   "metadata": {},
   "source": [
    "A Unix timestamp can be more useful as it will represent the time in seconds from 1st January, 1970 to when the earthquake occured. Thus bringing everyday date and time values to a value of seconds to represent in a common scale. Now Unix timestamp only started after 1970 and will run till 2038 hence we will have to discard all the earthquake data before 1970."
   ]
  },
  {
   "cell_type": "code",
   "execution_count": 317,
   "id": "71a8d946-1b58-4253-9300-e36e6bafb2be",
   "metadata": {},
   "outputs": [],
   "source": [
    "#remove all the earthquake data from before 1970\n",
    "\n",
    "df = df[df['Date_Time'].dt.year >=1970]"
   ]
  },
  {
   "cell_type": "code",
   "execution_count": 318,
   "id": "ec51e9b3-622a-43d4-a026-a6f1d7d8c7f7",
   "metadata": {},
   "outputs": [],
   "source": [
    "#reset the index to start from 0\n",
    "\n",
    "df = df.reset_index(drop=True)"
   ]
  },
  {
   "cell_type": "markdown",
   "id": "256e0d07-8569-4d98-8a55-89a3239a2cf5",
   "metadata": {},
   "source": [
    "#### Convert the datetime object to unix timestamp"
   ]
  },
  {
   "cell_type": "code",
   "execution_count": 319,
   "id": "75241141-8e08-4c30-bddc-9287a2a65110",
   "metadata": {
    "tags": []
   },
   "outputs": [],
   "source": [
    "%%capture\n",
    "#creat an empty list of timestamp\n",
    "timestamp= []\n",
    "\n",
    "for i in range(len(df)):\n",
    "    try:\n",
    "        presentDate = df['Date_Time'][i]\n",
    "        print(presentDate)\n",
    "        unix_timestamp = dt.datetime.timestamp(presentDate)*1000\n",
    "        timestamp.append(unix_timestamp)\n",
    "    except ValueError:\n",
    "        # print('ValueError')\n",
    "        timestamp.append('ValueError')"
   ]
  },
  {
   "cell_type": "code",
   "execution_count": 320,
   "id": "ad6f05d0-5e8d-412e-a309-118522b9f884",
   "metadata": {},
   "outputs": [],
   "source": [
    "#add the timestamp column to the dataframe\n",
    "df['timestamp'] = timestamp"
   ]
  },
  {
   "cell_type": "code",
   "execution_count": 321,
   "id": "79b6b35f-4b34-4b55-9f62-da946b29c077",
   "metadata": {},
   "outputs": [
    {
     "data": {
      "text/html": [
       "<div>\n",
       "<style scoped>\n",
       "    .dataframe tbody tr th:only-of-type {\n",
       "        vertical-align: middle;\n",
       "    }\n",
       "\n",
       "    .dataframe tbody tr th {\n",
       "        vertical-align: top;\n",
       "    }\n",
       "\n",
       "    .dataframe thead th {\n",
       "        text-align: right;\n",
       "    }\n",
       "</style>\n",
       "<table border=\"1\" class=\"dataframe\">\n",
       "  <thead>\n",
       "    <tr style=\"text-align: right;\">\n",
       "      <th></th>\n",
       "      <th>Latitude</th>\n",
       "      <th>Longitude</th>\n",
       "      <th>Depth(km)</th>\n",
       "      <th>xM</th>\n",
       "      <th>MD</th>\n",
       "      <th>ML</th>\n",
       "      <th>Mw</th>\n",
       "      <th>Ms</th>\n",
       "      <th>Mb</th>\n",
       "      <th>Type</th>\n",
       "      <th>Location</th>\n",
       "      <th>City</th>\n",
       "      <th>AREA_</th>\n",
       "      <th>geometry</th>\n",
       "      <th>Date_Time</th>\n",
       "      <th>Year</th>\n",
       "      <th>Month</th>\n",
       "      <th>Hour</th>\n",
       "      <th>timestamp</th>\n",
       "    </tr>\n",
       "  </thead>\n",
       "  <tbody>\n",
       "    <tr>\n",
       "      <th>0</th>\n",
       "      <td>36.90</td>\n",
       "      <td>29.10</td>\n",
       "      <td>30.0</td>\n",
       "      <td>4.6</td>\n",
       "      <td>4.4</td>\n",
       "      <td>4.4</td>\n",
       "      <td>4.6</td>\n",
       "      <td>4.3</td>\n",
       "      <td>4.5</td>\n",
       "      <td>1</td>\n",
       "      <td>KARABAYIR-CAMELI (DENIZLI) [South West  5.0 km]</td>\n",
       "      <td>DENIZLI</td>\n",
       "      <td>4621.875</td>\n",
       "      <td>POINT (29.1 36.9)</td>\n",
       "      <td>1970-03-01 12:54:33.000</td>\n",
       "      <td>1970</td>\n",
       "      <td>3</td>\n",
       "      <td>12</td>\n",
       "      <td>5.124273e+09</td>\n",
       "    </tr>\n",
       "    <tr>\n",
       "      <th>1</th>\n",
       "      <td>37.20</td>\n",
       "      <td>29.00</td>\n",
       "      <td>5.0</td>\n",
       "      <td>4.3</td>\n",
       "      <td>4.3</td>\n",
       "      <td>0.0</td>\n",
       "      <td>NaN</td>\n",
       "      <td>0.0</td>\n",
       "      <td>0.0</td>\n",
       "      <td>1</td>\n",
       "      <td>ALPA-TAVAS (DENIZLI) [South West  4.9 km]</td>\n",
       "      <td>DENIZLI</td>\n",
       "      <td>4621.875</td>\n",
       "      <td>POINT (29 37.2)</td>\n",
       "      <td>1970-03-28 20:08:02.300</td>\n",
       "      <td>1970</td>\n",
       "      <td>3</td>\n",
       "      <td>20</td>\n",
       "      <td>7.483082e+09</td>\n",
       "    </tr>\n",
       "    <tr>\n",
       "      <th>2</th>\n",
       "      <td>38.10</td>\n",
       "      <td>29.20</td>\n",
       "      <td>33.0</td>\n",
       "      <td>5.0</td>\n",
       "      <td>4.7</td>\n",
       "      <td>4.7</td>\n",
       "      <td>5.0</td>\n",
       "      <td>4.7</td>\n",
       "      <td>4.7</td>\n",
       "      <td>1</td>\n",
       "      <td>DAGMARMARA-CAL (DENIZLI) [South West  1.7 km]</td>\n",
       "      <td>DENIZLI</td>\n",
       "      <td>4621.875</td>\n",
       "      <td>POINT (29.2 38.1)</td>\n",
       "      <td>1970-03-28 21:23:28.000</td>\n",
       "      <td>1970</td>\n",
       "      <td>3</td>\n",
       "      <td>21</td>\n",
       "      <td>7.487608e+09</td>\n",
       "    </tr>\n",
       "    <tr>\n",
       "      <th>3</th>\n",
       "      <td>38.20</td>\n",
       "      <td>29.90</td>\n",
       "      <td>5.0</td>\n",
       "      <td>4.4</td>\n",
       "      <td>4.4</td>\n",
       "      <td>0.0</td>\n",
       "      <td>NaN</td>\n",
       "      <td>0.0</td>\n",
       "      <td>0.0</td>\n",
       "      <td>1</td>\n",
       "      <td>BEYKOY-CIVRIL (DENIZLI) [North East  2.5 km]</td>\n",
       "      <td>DENIZLI</td>\n",
       "      <td>4621.875</td>\n",
       "      <td>POINT (29.9 38.2)</td>\n",
       "      <td>1970-04-19 14:22:01.300</td>\n",
       "      <td>1970</td>\n",
       "      <td>4</td>\n",
       "      <td>14</td>\n",
       "      <td>9.363121e+09</td>\n",
       "    </tr>\n",
       "    <tr>\n",
       "      <th>4</th>\n",
       "      <td>37.01</td>\n",
       "      <td>29.01</td>\n",
       "      <td>11.0</td>\n",
       "      <td>4.7</td>\n",
       "      <td>4.5</td>\n",
       "      <td>4.5</td>\n",
       "      <td>4.7</td>\n",
       "      <td>4.4</td>\n",
       "      <td>4.6</td>\n",
       "      <td>1</td>\n",
       "      <td>KARACAM-KOYCEGIZ (MUGLA) [South West  2.6 km]</td>\n",
       "      <td>MUGLA</td>\n",
       "      <td>3786.527</td>\n",
       "      <td>POINT (29.01 37.01)</td>\n",
       "      <td>1970-10-19 01:32:25.000</td>\n",
       "      <td>1970</td>\n",
       "      <td>10</td>\n",
       "      <td>1</td>\n",
       "      <td>2.512814e+10</td>\n",
       "    </tr>\n",
       "  </tbody>\n",
       "</table>\n",
       "</div>"
      ],
      "text/plain": [
       "   Latitude  Longitude  Depth(km)   xM   MD   ML   Mw   Ms   Mb  Type  \\\n",
       "0     36.90      29.10       30.0  4.6  4.4  4.4  4.6  4.3  4.5     1   \n",
       "1     37.20      29.00        5.0  4.3  4.3  0.0  NaN  0.0  0.0     1   \n",
       "2     38.10      29.20       33.0  5.0  4.7  4.7  5.0  4.7  4.7     1   \n",
       "3     38.20      29.90        5.0  4.4  4.4  0.0  NaN  0.0  0.0     1   \n",
       "4     37.01      29.01       11.0  4.7  4.5  4.5  4.7  4.4  4.6     1   \n",
       "\n",
       "                                          Location     City     AREA_  \\\n",
       "0  KARABAYIR-CAMELI (DENIZLI) [South West  5.0 km]  DENIZLI  4621.875   \n",
       "1        ALPA-TAVAS (DENIZLI) [South West  4.9 km]  DENIZLI  4621.875   \n",
       "2    DAGMARMARA-CAL (DENIZLI) [South West  1.7 km]  DENIZLI  4621.875   \n",
       "3     BEYKOY-CIVRIL (DENIZLI) [North East  2.5 km]  DENIZLI  4621.875   \n",
       "4    KARACAM-KOYCEGIZ (MUGLA) [South West  2.6 km]    MUGLA  3786.527   \n",
       "\n",
       "              geometry               Date_Time  Year  Month  Hour  \\\n",
       "0    POINT (29.1 36.9) 1970-03-01 12:54:33.000  1970      3    12   \n",
       "1      POINT (29 37.2) 1970-03-28 20:08:02.300  1970      3    20   \n",
       "2    POINT (29.2 38.1) 1970-03-28 21:23:28.000  1970      3    21   \n",
       "3    POINT (29.9 38.2) 1970-04-19 14:22:01.300  1970      4    14   \n",
       "4  POINT (29.01 37.01) 1970-10-19 01:32:25.000  1970     10     1   \n",
       "\n",
       "      timestamp  \n",
       "0  5.124273e+09  \n",
       "1  7.483082e+09  \n",
       "2  7.487608e+09  \n",
       "3  9.363121e+09  \n",
       "4  2.512814e+10  "
      ]
     },
     "execution_count": 321,
     "metadata": {},
     "output_type": "execute_result"
    }
   ],
   "source": [
    "df.head()"
   ]
  },
  {
   "cell_type": "code",
   "execution_count": 322,
   "id": "d3284837-fc38-4445-98fe-3875eb5e7846",
   "metadata": {},
   "outputs": [
    {
     "data": {
      "text/plain": [
       "(42460, 19)"
      ]
     },
     "execution_count": 322,
     "metadata": {},
     "output_type": "execute_result"
    }
   ],
   "source": [
    "df.shape"
   ]
  },
  {
   "cell_type": "code",
   "execution_count": 326,
   "id": "7eff68bf-ec6b-4aef-bfb8-2ffeefdd331a",
   "metadata": {
    "tags": []
   },
   "outputs": [
    {
     "data": {
      "text/html": [
       "<div>\n",
       "<style scoped>\n",
       "    .dataframe tbody tr th:only-of-type {\n",
       "        vertical-align: middle;\n",
       "    }\n",
       "\n",
       "    .dataframe tbody tr th {\n",
       "        vertical-align: top;\n",
       "    }\n",
       "\n",
       "    .dataframe thead th {\n",
       "        text-align: right;\n",
       "    }\n",
       "</style>\n",
       "<table border=\"1\" class=\"dataframe\">\n",
       "  <thead>\n",
       "    <tr style=\"text-align: right;\">\n",
       "      <th></th>\n",
       "      <th>Latitude</th>\n",
       "      <th>Longitude</th>\n",
       "      <th>Depth(km)</th>\n",
       "      <th>timestamp</th>\n",
       "      <th>xM</th>\n",
       "    </tr>\n",
       "  </thead>\n",
       "  <tbody>\n",
       "    <tr>\n",
       "      <th>0</th>\n",
       "      <td>36.90</td>\n",
       "      <td>29.1</td>\n",
       "      <td>30.0</td>\n",
       "      <td>5.124273e+09</td>\n",
       "      <td>4.6</td>\n",
       "    </tr>\n",
       "    <tr>\n",
       "      <th>1</th>\n",
       "      <td>37.20</td>\n",
       "      <td>29.0</td>\n",
       "      <td>5.0</td>\n",
       "      <td>7.483082e+09</td>\n",
       "      <td>4.3</td>\n",
       "    </tr>\n",
       "    <tr>\n",
       "      <th>2</th>\n",
       "      <td>38.10</td>\n",
       "      <td>29.2</td>\n",
       "      <td>33.0</td>\n",
       "      <td>7.487608e+09</td>\n",
       "      <td>5.0</td>\n",
       "    </tr>\n",
       "    <tr>\n",
       "      <th>3</th>\n",
       "      <td>38.20</td>\n",
       "      <td>29.9</td>\n",
       "      <td>5.0</td>\n",
       "      <td>9.363121e+09</td>\n",
       "      <td>4.4</td>\n",
       "    </tr>\n",
       "    <tr>\n",
       "      <th>7</th>\n",
       "      <td>37.11</td>\n",
       "      <td>29.0</td>\n",
       "      <td>38.0</td>\n",
       "      <td>3.146757e+10</td>\n",
       "      <td>4.3</td>\n",
       "    </tr>\n",
       "  </tbody>\n",
       "</table>\n",
       "</div>"
      ],
      "text/plain": [
       "   Latitude  Longitude  Depth(km)     timestamp   xM\n",
       "0     36.90       29.1       30.0  5.124273e+09  4.6\n",
       "1     37.20       29.0        5.0  7.483082e+09  4.3\n",
       "2     38.10       29.2       33.0  7.487608e+09  5.0\n",
       "3     38.20       29.9        5.0  9.363121e+09  4.4\n",
       "7     37.11       29.0       38.0  3.146757e+10  4.3"
      ]
     },
     "execution_count": 326,
     "metadata": {},
     "output_type": "execute_result"
    }
   ],
   "source": [
    "df_final = df[df['City']=='DENIZLI']\n",
    "\n",
    "#Now only choose the parameters to be used for modeling\n",
    "df_final = df_final[['Latitude','Longitude','Depth(km)','xM','timestamp']]\n",
    "\n",
    "\n",
    "\n",
    "#get all the columns names \n",
    "cols=[col_names for col_names in df_final.columns.tolist()]\n",
    "\n",
    "\n",
    "#rearrange columns\n",
    "cols = cols[0:3] + cols[4:5] + cols[3:4]\n",
    "\n",
    "df_final = df_final[cols]\n",
    "df_final.head()"
   ]
  },
  {
   "cell_type": "code",
   "execution_count": 327,
   "id": "8fa87c33-13ba-41a1-8bac-bdd18f3fffca",
   "metadata": {},
   "outputs": [
    {
     "data": {
      "text/plain": [
       "(2595, 5)"
      ]
     },
     "execution_count": 327,
     "metadata": {},
     "output_type": "execute_result"
    }
   ],
   "source": [
    "df_final.shape"
   ]
  },
  {
   "cell_type": "code",
   "execution_count": 328,
   "id": "8b8a838b-5b4c-40d2-87e1-d0b7d332440d",
   "metadata": {},
   "outputs": [],
   "source": [
    "df_final.drop('timestamp', axis=1, inplace=True)"
   ]
  },
  {
   "cell_type": "markdown",
   "id": "715517bb-f1f7-452e-8689-ffbdc1631b02",
   "metadata": {},
   "source": [
    "#### Scale the data before splitting into data sets"
   ]
  },
  {
   "cell_type": "code",
   "execution_count": 329,
   "id": "74091c30-e57a-49d4-bd65-885fee40ee23",
   "metadata": {},
   "outputs": [],
   "source": [
    "#create a standardscaler object\n",
    "#scaler = StandardScaler()\n",
    "\n",
    "#fit and transform the data\n",
    "#df_scaled = scaler.fit_transform(df_final.to_numpy())\n"
   ]
  },
  {
   "cell_type": "code",
   "execution_count": null,
   "id": "bce5ba7a-cb2b-45ee-9c66-1a79c3cb9c5d",
   "metadata": {},
   "outputs": [],
   "source": []
  },
  {
   "cell_type": "markdown",
   "id": "6aca2885-5404-4548-b60a-edefeeb5dbd2",
   "metadata": {},
   "source": [
    "#### Split the data into training and testing set\n",
    "\n"
   ]
  },
  {
   "cell_type": "code",
   "execution_count": 330,
   "id": "df3489a9-a736-4706-b93a-554b57323f1a",
   "metadata": {},
   "outputs": [],
   "source": [
    "#create feature array\n",
    "#X = df_scaled[:, 0:4]\n",
    "X = df_final[['Latitude','Longitude','Depth(km)']]\n",
    "#create prediction label array\n",
    "#y = df_scaled[:, 4]\n",
    "y = df_final['xM']\n"
   ]
  },
  {
   "cell_type": "code",
   "execution_count": 331,
   "id": "9e111e97-42b9-43a3-ae9b-d444599da673",
   "metadata": {},
   "outputs": [
    {
     "name": "stdout",
     "output_type": "stream",
     "text": [
      "(1816, 3) (779, 3) (1816,) (779,)\n"
     ]
    }
   ],
   "source": [
    "#split the data\n",
    "X_train, X_test, y_train, y_test = train_test_split(X, y, test_size=0.3, random_state=42)\n",
    "print(X_train.shape, X_test.shape, y_train.shape, y_test.shape)"
   ]
  },
  {
   "cell_type": "code",
   "execution_count": 332,
   "id": "cc93d752-e50b-4338-a641-c15867d71937",
   "metadata": {},
   "outputs": [
    {
     "data": {
      "text/html": [
       "<div>\n",
       "<style scoped>\n",
       "    .dataframe tbody tr th:only-of-type {\n",
       "        vertical-align: middle;\n",
       "    }\n",
       "\n",
       "    .dataframe tbody tr th {\n",
       "        vertical-align: top;\n",
       "    }\n",
       "\n",
       "    .dataframe thead th {\n",
       "        text-align: right;\n",
       "    }\n",
       "</style>\n",
       "<table border=\"1\" class=\"dataframe\">\n",
       "  <thead>\n",
       "    <tr style=\"text-align: right;\">\n",
       "      <th></th>\n",
       "      <th>Latitude</th>\n",
       "      <th>Longitude</th>\n",
       "      <th>Depth(km)</th>\n",
       "    </tr>\n",
       "  </thead>\n",
       "  <tbody>\n",
       "    <tr>\n",
       "      <th>23634</th>\n",
       "      <td>37.7988</td>\n",
       "      <td>29.6787</td>\n",
       "      <td>5.0</td>\n",
       "    </tr>\n",
       "    <tr>\n",
       "      <th>34</th>\n",
       "      <td>37.9000</td>\n",
       "      <td>29.4000</td>\n",
       "      <td>5.0</td>\n",
       "    </tr>\n",
       "    <tr>\n",
       "      <th>195</th>\n",
       "      <td>37.7800</td>\n",
       "      <td>29.2700</td>\n",
       "      <td>10.0</td>\n",
       "    </tr>\n",
       "    <tr>\n",
       "      <th>1981</th>\n",
       "      <td>37.0263</td>\n",
       "      <td>29.1757</td>\n",
       "      <td>5.0</td>\n",
       "    </tr>\n",
       "    <tr>\n",
       "      <th>384</th>\n",
       "      <td>37.2400</td>\n",
       "      <td>29.4100</td>\n",
       "      <td>1.0</td>\n",
       "    </tr>\n",
       "    <tr>\n",
       "      <th>...</th>\n",
       "      <td>...</td>\n",
       "      <td>...</td>\n",
       "      <td>...</td>\n",
       "    </tr>\n",
       "    <tr>\n",
       "      <th>1891</th>\n",
       "      <td>36.9888</td>\n",
       "      <td>29.2108</td>\n",
       "      <td>2.8</td>\n",
       "    </tr>\n",
       "    <tr>\n",
       "      <th>1286</th>\n",
       "      <td>37.6600</td>\n",
       "      <td>29.2500</td>\n",
       "      <td>19.0</td>\n",
       "    </tr>\n",
       "    <tr>\n",
       "      <th>1324</th>\n",
       "      <td>38.0400</td>\n",
       "      <td>28.9500</td>\n",
       "      <td>7.0</td>\n",
       "    </tr>\n",
       "    <tr>\n",
       "      <th>1502</th>\n",
       "      <td>37.8270</td>\n",
       "      <td>29.1135</td>\n",
       "      <td>18.7</td>\n",
       "    </tr>\n",
       "    <tr>\n",
       "      <th>1035</th>\n",
       "      <td>37.8400</td>\n",
       "      <td>29.1400</td>\n",
       "      <td>4.0</td>\n",
       "    </tr>\n",
       "  </tbody>\n",
       "</table>\n",
       "<p>1816 rows × 3 columns</p>\n",
       "</div>"
      ],
      "text/plain": [
       "       Latitude  Longitude  Depth(km)\n",
       "23634   37.7988    29.6787        5.0\n",
       "34      37.9000    29.4000        5.0\n",
       "195     37.7800    29.2700       10.0\n",
       "1981    37.0263    29.1757        5.0\n",
       "384     37.2400    29.4100        1.0\n",
       "...         ...        ...        ...\n",
       "1891    36.9888    29.2108        2.8\n",
       "1286    37.6600    29.2500       19.0\n",
       "1324    38.0400    28.9500        7.0\n",
       "1502    37.8270    29.1135       18.7\n",
       "1035    37.8400    29.1400        4.0\n",
       "\n",
       "[1816 rows x 3 columns]"
      ]
     },
     "execution_count": 332,
     "metadata": {},
     "output_type": "execute_result"
    }
   ],
   "source": [
    "X_train"
   ]
  },
  {
   "cell_type": "code",
   "execution_count": null,
   "id": "663e1d32-81bb-4f34-b2ac-55d5c27130a7",
   "metadata": {},
   "outputs": [],
   "source": [
    "\n"
   ]
  },
  {
   "cell_type": "markdown",
   "id": "a9002263-dc87-4bd2-81fc-dc8f29e6aad4",
   "metadata": {
    "tags": []
   },
   "source": [
    "## Building a model"
   ]
  },
  {
   "cell_type": "code",
   "execution_count": 350,
   "id": "e960a8e3-db5e-4422-bce6-0f6ab3310b7d",
   "metadata": {},
   "outputs": [],
   "source": [
    "from sklearn.preprocessing import PolynomialFeatures\n",
    "from sklearn.pipeline import make_pipeline\n",
    "from sklearn.linear_model import LinearRegression\n",
    "from sklearn.metrics import r2_score\n",
    "from sklearn.svm import SVR\n",
    "from sklearn.tree import DecisionTreeRegressor\n",
    "from sklearn.metrics import accuracy_score\n",
    "from sklearn.ensemble import RandomForestRegressor\n",
    "from sklearn.metrics import mean_absolute_error"
   ]
  },
  {
   "cell_type": "code",
   "execution_count": 368,
   "id": "3597e5a0-0dda-425e-8583-068ec53d5e4f",
   "metadata": {},
   "outputs": [],
   "source": [
    "#create the model object\n",
    "model=DecisionTreeRegressor(random_state=4, max_depth=28)"
   ]
  },
  {
   "cell_type": "code",
   "execution_count": 369,
   "id": "fe6a9d30-219b-4123-bcb6-666c9c277d34",
   "metadata": {},
   "outputs": [],
   "source": [
    "#fit and predict the data\n",
    "predictions =model.fit(X_train, y_train).predict(X_train)"
   ]
  },
  {
   "cell_type": "code",
   "execution_count": 370,
   "id": "67ff518c-bcba-469a-b723-cd982eb1879e",
   "metadata": {},
   "outputs": [
    {
     "data": {
      "text/plain": [
       "array([3.2, 3.3, 3.1, 3.1, 3.4, 3. , 3.1, 3. , 3.2, 3.5])"
      ]
     },
     "execution_count": 370,
     "metadata": {},
     "output_type": "execute_result"
    }
   ],
   "source": [
    "#print predicitons\n",
    "predictions[0:10]"
   ]
  },
  {
   "cell_type": "code",
   "execution_count": 371,
   "id": "f8bf55ea-fa38-4ab3-bcd2-2cbf84e5c4cf",
   "metadata": {},
   "outputs": [
    {
     "data": {
      "text/plain": [
       "255      3.0\n",
       "2410     3.0\n",
       "1996     3.2\n",
       "29258    3.3\n",
       "1926     4.0\n",
       "955      3.2\n",
       "1261     3.6\n",
       "29904    3.1\n",
       "958      3.1\n",
       "1564     3.4\n",
       "Name: xM, dtype: float64"
      ]
     },
     "execution_count": 371,
     "metadata": {},
     "output_type": "execute_result"
    }
   ],
   "source": [
    "y_test[0:10]"
   ]
  },
  {
   "cell_type": "code",
   "execution_count": 372,
   "id": "cfe46053-4e5e-4010-997f-44890adc924b",
   "metadata": {},
   "outputs": [
    {
     "data": {
      "text/plain": [
       "0.9837773437977249"
      ]
     },
     "execution_count": 372,
     "metadata": {},
     "output_type": "execute_result"
    }
   ],
   "source": [
    "#calculate the r2 score\n",
    "r2_score(y_train, predictions)"
   ]
  },
  {
   "cell_type": "code",
   "execution_count": 373,
   "id": "e4c273cf-bb50-43bc-b6dc-59759eeef7d1",
   "metadata": {},
   "outputs": [
    {
     "data": {
      "text/plain": [
       "0.29625588361146765"
      ]
     },
     "execution_count": 373,
     "metadata": {},
     "output_type": "execute_result"
    }
   ],
   "source": [
    "y_pred_test = model.predict(X_test)\n",
    "\n",
    "mean_absolute_error(y_test, y_pred_test)"
   ]
  },
  {
   "cell_type": "markdown",
   "id": "a4cd51b3-349e-4174-8968-af3176313bc9",
   "metadata": {},
   "source": [
    "#### Random Forest Regressor"
   ]
  },
  {
   "cell_type": "code",
   "execution_count": 365,
   "id": "ff8cae3a-f66e-436e-9cff-82bfe6795409",
   "metadata": {},
   "outputs": [
    {
     "data": {
      "text/plain": [
       "-0.16528773245112816"
      ]
     },
     "execution_count": 365,
     "metadata": {},
     "output_type": "execute_result"
    }
   ],
   "source": [
    "clf = RandomForestRegressor(n_estimators=30)\n",
    "\n",
    "clf.fit(X_train, y_train)\n",
    "y_pred = clf.predict(X_test)\n",
    "clf.score(X_test, y_test)"
   ]
  },
  {
   "cell_type": "code",
   "execution_count": 366,
   "id": "e0b2a765-78b9-40df-ba59-9309efd3ff42",
   "metadata": {},
   "outputs": [
    {
     "data": {
      "text/plain": [
       "0.24801428367667128"
      ]
     },
     "execution_count": 366,
     "metadata": {},
     "output_type": "execute_result"
    }
   ],
   "source": [
    "mean_absolute_error(y_test, y_pred)"
   ]
  },
  {
   "cell_type": "code",
   "execution_count": 367,
   "id": "3632b149-51c9-4f07-8f57-8484d32ad959",
   "metadata": {},
   "outputs": [
    {
     "data": {
      "text/plain": [
       "3.1"
      ]
     },
     "execution_count": 367,
     "metadata": {},
     "output_type": "execute_result"
    }
   ],
   "source": [
    "y_pred_test[0]"
   ]
  },
  {
   "cell_type": "code",
   "execution_count": null,
   "id": "5474d060-33ed-495f-87db-830bd4e983ad",
   "metadata": {},
   "outputs": [],
   "source": []
  }
 ],
 "metadata": {
  "kernelspec": {
   "display_name": "Python 3 (ipykernel)",
   "language": "python",
   "name": "python3"
  },
  "language_info": {
   "codemirror_mode": {
    "name": "ipython",
    "version": 3
   },
   "file_extension": ".py",
   "mimetype": "text/x-python",
   "name": "python",
   "nbconvert_exporter": "python",
   "pygments_lexer": "ipython3",
   "version": "3.9.7"
  }
 },
 "nbformat": 4,
 "nbformat_minor": 5
}
